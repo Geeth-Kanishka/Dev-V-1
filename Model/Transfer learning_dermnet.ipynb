{
 "cells": [
  {
   "cell_type": "markdown",
   "id": "38056de9",
   "metadata": {},
   "source": [
    "# Transfer learning _ResNet-50"
   ]
  },
  {
   "cell_type": "markdown",
   "id": "5303175e",
   "metadata": {},
   "source": [
    "# 1.Importing libraries"
   ]
  },
  {
   "cell_type": "code",
   "execution_count": 1,
   "id": "cb05e6c3",
   "metadata": {},
   "outputs": [],
   "source": [
    "import matplotlib.pyplot as plt\n",
    "import numpy as np\n",
    "import PIL\n",
    "import tensorflow as tf\n",
    "from tensorflow.keras import models, layers\n",
    "from tensorflow.keras.layers import Dense,Flatten\n",
    "from tensorflow.keras.models import Sequential\n",
    "from tensorflow.keras.optimizers import Adam"
   ]
  },
  {
   "cell_type": "markdown",
   "id": "d600b028",
   "metadata": {},
   "source": [
    "# 2.Loading data/ Preprocessing"
   ]
  },
  {
   "cell_type": "code",
   "execution_count": 2,
   "id": "56440a0a",
   "metadata": {},
   "outputs": [],
   "source": [
    "data_dir = \"dermnet/train\"#directory of the  train data\n",
    "test_dir = \"dermnet/test\"#directory of the  test data"
   ]
  },
  {
   "cell_type": "code",
   "execution_count": 4,
   "id": "ec1564ed",
   "metadata": {},
   "outputs": [
    {
     "ename": "FileNotFoundError",
     "evalue": "[WinError 3] The system cannot find the path specified: 'dermnet/train'",
     "output_type": "error",
     "traceback": [
      "\u001b[1;31m---------------------------------------------------------------------------\u001b[0m",
      "\u001b[1;31mFileNotFoundError\u001b[0m                         Traceback (most recent call last)",
      "\u001b[1;32mc:\\Users\\abdurahman\\Documents\\GitHub\\Dev-V\\Model\\Transfer learning_dermnet.ipynb Cell 6'\u001b[0m in \u001b[0;36m<module>\u001b[1;34m\u001b[0m\n\u001b[0;32m      <a href='vscode-notebook-cell:/c%3A/Users/abdurahman/Documents/GitHub/Dev-V/Model/Transfer%20learning_dermnet.ipynb#ch0000005?line=0'>1</a>\u001b[0m img_height,img_width\u001b[39m=\u001b[39m\u001b[39m180\u001b[39m,\u001b[39m180\u001b[39m\u001b[39m#Size of the image\u001b[39;00m\n\u001b[0;32m      <a href='vscode-notebook-cell:/c%3A/Users/abdurahman/Documents/GitHub/Dev-V/Model/Transfer%20learning_dermnet.ipynb#ch0000005?line=1'>2</a>\u001b[0m batch_size\u001b[39m=\u001b[39m\u001b[39m32\u001b[39m\n\u001b[1;32m----> <a href='vscode-notebook-cell:/c%3A/Users/abdurahman/Documents/GitHub/Dev-V/Model/Transfer%20learning_dermnet.ipynb#ch0000005?line=2'>3</a>\u001b[0m train_ds \u001b[39m=\u001b[39m tf\u001b[39m.\u001b[39;49mkeras\u001b[39m.\u001b[39;49mpreprocessing\u001b[39m.\u001b[39;49mimage_dataset_from_directory(\n\u001b[0;32m      <a href='vscode-notebook-cell:/c%3A/Users/abdurahman/Documents/GitHub/Dev-V/Model/Transfer%20learning_dermnet.ipynb#ch0000005?line=3'>4</a>\u001b[0m   data_dir,\n\u001b[0;32m      <a href='vscode-notebook-cell:/c%3A/Users/abdurahman/Documents/GitHub/Dev-V/Model/Transfer%20learning_dermnet.ipynb#ch0000005?line=4'>5</a>\u001b[0m   validation_split\u001b[39m=\u001b[39;49m\u001b[39m0.2\u001b[39;49m,\n\u001b[0;32m      <a href='vscode-notebook-cell:/c%3A/Users/abdurahman/Documents/GitHub/Dev-V/Model/Transfer%20learning_dermnet.ipynb#ch0000005?line=5'>6</a>\u001b[0m   subset\u001b[39m=\u001b[39;49m\u001b[39m\"\u001b[39;49m\u001b[39mtraining\u001b[39;49m\u001b[39m\"\u001b[39;49m,\n\u001b[0;32m      <a href='vscode-notebook-cell:/c%3A/Users/abdurahman/Documents/GitHub/Dev-V/Model/Transfer%20learning_dermnet.ipynb#ch0000005?line=6'>7</a>\u001b[0m   seed\u001b[39m=\u001b[39;49m\u001b[39m123\u001b[39;49m,\n\u001b[0;32m      <a href='vscode-notebook-cell:/c%3A/Users/abdurahman/Documents/GitHub/Dev-V/Model/Transfer%20learning_dermnet.ipynb#ch0000005?line=7'>8</a>\u001b[0m   image_size\u001b[39m=\u001b[39;49m(img_height, img_width),\u001b[39m# resize images after they are read from folder\u001b[39;49;00m\n\u001b[0;32m      <a href='vscode-notebook-cell:/c%3A/Users/abdurahman/Documents/GitHub/Dev-V/Model/Transfer%20learning_dermnet.ipynb#ch0000005?line=8'>9</a>\u001b[0m   batch_size\u001b[39m=\u001b[39;49mbatch_size)\n",
      "File \u001b[1;32m~\\AppData\\Local\\Programs\\Python\\Python39\\lib\\site-packages\\keras\\preprocessing\\image_dataset.py:192\u001b[0m, in \u001b[0;36mimage_dataset_from_directory\u001b[1;34m(directory, labels, label_mode, class_names, color_mode, batch_size, image_size, shuffle, seed, validation_split, subset, interpolation, follow_links, crop_to_aspect_ratio, **kwargs)\u001b[0m\n\u001b[0;32m    <a href='file:///~/AppData/Local/Programs/Python/Python39/lib/site-packages/keras/preprocessing/image_dataset.py?line=189'>190</a>\u001b[0m \u001b[39mif\u001b[39;00m seed \u001b[39mis\u001b[39;00m \u001b[39mNone\u001b[39;00m:\n\u001b[0;32m    <a href='file:///~/AppData/Local/Programs/Python/Python39/lib/site-packages/keras/preprocessing/image_dataset.py?line=190'>191</a>\u001b[0m   seed \u001b[39m=\u001b[39m np\u001b[39m.\u001b[39mrandom\u001b[39m.\u001b[39mrandint(\u001b[39m1e6\u001b[39m)\n\u001b[1;32m--> <a href='file:///~/AppData/Local/Programs/Python/Python39/lib/site-packages/keras/preprocessing/image_dataset.py?line=191'>192</a>\u001b[0m image_paths, labels, class_names \u001b[39m=\u001b[39m dataset_utils\u001b[39m.\u001b[39;49mindex_directory(\n\u001b[0;32m    <a href='file:///~/AppData/Local/Programs/Python/Python39/lib/site-packages/keras/preprocessing/image_dataset.py?line=192'>193</a>\u001b[0m     directory,\n\u001b[0;32m    <a href='file:///~/AppData/Local/Programs/Python/Python39/lib/site-packages/keras/preprocessing/image_dataset.py?line=193'>194</a>\u001b[0m     labels,\n\u001b[0;32m    <a href='file:///~/AppData/Local/Programs/Python/Python39/lib/site-packages/keras/preprocessing/image_dataset.py?line=194'>195</a>\u001b[0m     formats\u001b[39m=\u001b[39;49mALLOWLIST_FORMATS,\n\u001b[0;32m    <a href='file:///~/AppData/Local/Programs/Python/Python39/lib/site-packages/keras/preprocessing/image_dataset.py?line=195'>196</a>\u001b[0m     class_names\u001b[39m=\u001b[39;49mclass_names,\n\u001b[0;32m    <a href='file:///~/AppData/Local/Programs/Python/Python39/lib/site-packages/keras/preprocessing/image_dataset.py?line=196'>197</a>\u001b[0m     shuffle\u001b[39m=\u001b[39;49mshuffle,\n\u001b[0;32m    <a href='file:///~/AppData/Local/Programs/Python/Python39/lib/site-packages/keras/preprocessing/image_dataset.py?line=197'>198</a>\u001b[0m     seed\u001b[39m=\u001b[39;49mseed,\n\u001b[0;32m    <a href='file:///~/AppData/Local/Programs/Python/Python39/lib/site-packages/keras/preprocessing/image_dataset.py?line=198'>199</a>\u001b[0m     follow_links\u001b[39m=\u001b[39;49mfollow_links)\n\u001b[0;32m    <a href='file:///~/AppData/Local/Programs/Python/Python39/lib/site-packages/keras/preprocessing/image_dataset.py?line=200'>201</a>\u001b[0m \u001b[39mif\u001b[39;00m label_mode \u001b[39m==\u001b[39m \u001b[39m'\u001b[39m\u001b[39mbinary\u001b[39m\u001b[39m'\u001b[39m \u001b[39mand\u001b[39;00m \u001b[39mlen\u001b[39m(class_names) \u001b[39m!=\u001b[39m \u001b[39m2\u001b[39m:\n\u001b[0;32m    <a href='file:///~/AppData/Local/Programs/Python/Python39/lib/site-packages/keras/preprocessing/image_dataset.py?line=201'>202</a>\u001b[0m   \u001b[39mraise\u001b[39;00m \u001b[39mValueError\u001b[39;00m(\n\u001b[0;32m    <a href='file:///~/AppData/Local/Programs/Python/Python39/lib/site-packages/keras/preprocessing/image_dataset.py?line=202'>203</a>\u001b[0m       \u001b[39mf\u001b[39m\u001b[39m'\u001b[39m\u001b[39mWhen passing `label_mode=\u001b[39m\u001b[39m\"\u001b[39m\u001b[39mbinary\u001b[39m\u001b[39m\"\u001b[39m\u001b[39m`, there must be exactly 2 \u001b[39m\u001b[39m'\u001b[39m\n\u001b[0;32m    <a href='file:///~/AppData/Local/Programs/Python/Python39/lib/site-packages/keras/preprocessing/image_dataset.py?line=203'>204</a>\u001b[0m       \u001b[39mf\u001b[39m\u001b[39m'\u001b[39m\u001b[39mclass_names. Received: class_names=\u001b[39m\u001b[39m{\u001b[39;00mclass_names\u001b[39m}\u001b[39;00m\u001b[39m'\u001b[39m)\n",
      "File \u001b[1;32m~\\AppData\\Local\\Programs\\Python\\Python39\\lib\\site-packages\\keras\\preprocessing\\dataset_utils.py:66\u001b[0m, in \u001b[0;36mindex_directory\u001b[1;34m(directory, labels, formats, class_names, shuffle, seed, follow_links)\u001b[0m\n\u001b[0;32m     <a href='file:///~/AppData/Local/Programs/Python/Python39/lib/site-packages/keras/preprocessing/dataset_utils.py?line=63'>64</a>\u001b[0m \u001b[39melse\u001b[39;00m:\n\u001b[0;32m     <a href='file:///~/AppData/Local/Programs/Python/Python39/lib/site-packages/keras/preprocessing/dataset_utils.py?line=64'>65</a>\u001b[0m   subdirs \u001b[39m=\u001b[39m []\n\u001b[1;32m---> <a href='file:///~/AppData/Local/Programs/Python/Python39/lib/site-packages/keras/preprocessing/dataset_utils.py?line=65'>66</a>\u001b[0m   \u001b[39mfor\u001b[39;00m subdir \u001b[39min\u001b[39;00m \u001b[39msorted\u001b[39m(os\u001b[39m.\u001b[39;49mlistdir(directory)):\n\u001b[0;32m     <a href='file:///~/AppData/Local/Programs/Python/Python39/lib/site-packages/keras/preprocessing/dataset_utils.py?line=66'>67</a>\u001b[0m     \u001b[39mif\u001b[39;00m os\u001b[39m.\u001b[39mpath\u001b[39m.\u001b[39misdir(os\u001b[39m.\u001b[39mpath\u001b[39m.\u001b[39mjoin(directory, subdir)):\n\u001b[0;32m     <a href='file:///~/AppData/Local/Programs/Python/Python39/lib/site-packages/keras/preprocessing/dataset_utils.py?line=67'>68</a>\u001b[0m       subdirs\u001b[39m.\u001b[39mappend(subdir)\n",
      "\u001b[1;31mFileNotFoundError\u001b[0m: [WinError 3] The system cannot find the path specified: 'dermnet/train'"
     ]
    }
   ],
   "source": [
    "img_height,img_width=180,180#Size of the image\n",
    "batch_size=32\n",
    "train_ds = tf.keras.preprocessing.image_dataset_from_directory(\n",
    "  data_dir,\n",
    "  validation_split=0.2,\n",
    "  subset=\"training\",\n",
    "  seed=123,\n",
    "  image_size=(img_height, img_width),# resize images after they are read from folder\n",
    "  batch_size=batch_size)#Size of the batches of data to load at a time"
   ]
  },
  {
   "cell_type": "code",
   "execution_count": 4,
   "id": "963daf88",
   "metadata": {},
   "outputs": [
    {
     "name": "stdout",
     "output_type": "stream",
     "text": [
      "Found 24855 files belonging to 23 classes.\n",
      "Using 4971 files for validation.\n"
     ]
    }
   ],
   "source": [
    "val_ds = tf.keras.preprocessing.image_dataset_from_directory(\n",
    "  data_dir,\n",
    "  validation_split=0.2,\n",
    "  subset=\"validation\",\n",
    "  seed=123,\n",
    "  image_size=(img_height, img_width),\n",
    "  batch_size=batch_size)"
   ]
  },
  {
   "cell_type": "code",
   "execution_count": 6,
   "id": "1e2f4d4f",
   "metadata": {},
   "outputs": [
    {
     "name": "stdout",
     "output_type": "stream",
     "text": [
      "Found 4317 files belonging to 23 classes.\n"
     ]
    }
   ],
   "source": [
    "#testing data preprocessing\n",
    "test_ds =tf.keras.preprocessing.image_dataset_from_directory(\n",
    "    test_dir,#directory of the  test data\n",
    "    shuffle = True,\n",
    "    seed=123,\n",
    "    image_size =(img_height, img_width),\n",
    "    batch_size = 32  \n",
    ")"
   ]
  },
  {
   "cell_type": "markdown",
   "id": "de0d783b",
   "metadata": {},
   "source": [
    "Data visualization"
   ]
  },
  {
   "cell_type": "code",
   "execution_count": null,
   "id": "2ab8a0ae",
   "metadata": {},
   "outputs": [],
   "source": [
    "class_names=train_ds.class_names\n",
    "print(class_names)"
   ]
  },
  {
   "cell_type": "code",
   "execution_count": null,
   "id": "905e942e",
   "metadata": {},
   "outputs": [],
   "source": [
    "import matplotlib.pyplot as plt\n",
    "\n",
    "plt.figure(figsize=(10, 10))\n",
    "for images, labels in train_ds.take(1):\n",
    "  for i in range(6):\n",
    "    ax = plt.subplot(3, 3, i + 1)\n",
    "    plt.imshow(images[i].numpy().astype(\"uint8\"))\n",
    "    plt.title(class_names[labels[i]])\n",
    "    plt.axis(\"off\")"
   ]
  },
  {
   "cell_type": "code",
   "execution_count": null,
   "id": "5c5f387f",
   "metadata": {},
   "outputs": [],
   "source": [
    "resnet_model = Sequential()\n",
    "\n",
    "\n",
    "pretrained_model= tf.keras.applications.ResNet50(include_top=,\n",
    "                   input_shape=(180,180,3),\n",
    "                   pooling='avg',classes=4,\n",
    "                   weights='imagenet')"
   ]
  },
  {
   "cell_type": "markdown",
   "id": "c88281bc",
   "metadata": {},
   "source": [
    "#this is test "
   ]
  }
 ],
 "metadata": {
  "kernelspec": {
   "display_name": "Python 3 (ipykernel)",
   "language": "python",
   "name": "python3"
  },
  "language_info": {
   "codemirror_mode": {
    "name": "ipython",
    "version": 3
   },
   "file_extension": ".py",
   "mimetype": "text/x-python",
   "name": "python",
   "nbconvert_exporter": "python",
   "pygments_lexer": "ipython3",
   "version": "3.9.10"
  }
 },
 "nbformat": 4,
 "nbformat_minor": 5
}
