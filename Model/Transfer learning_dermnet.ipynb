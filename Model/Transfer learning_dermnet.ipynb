{
 "cells": [
  {
   "cell_type": "markdown",
   "id": "d3482731",
   "metadata": {},
   "source": [
    "# Transfer learning _ResNet-50"
   ]
  },
  {
   "cell_type": "markdown",
   "id": "0a838b6b",
   "metadata": {},
   "source": [
    "# 1.Importing libraries"
   ]
  },
  {
   "cell_type": "code",
   "execution_count": 1,
   "id": "06a2b6fb",
   "metadata": {},
   "outputs": [],
   "source": [
    "import matplotlib.pyplot as plt\n",
    "import numpy as np\n",
    "import PIL\n",
    "import tensorflow as tf\n",
    "from tensorflow.keras import models, layers\n",
    "from tensorflow.keras.layers import Dense,Flatten\n",
    "from tensorflow.keras.models import Sequential\n",
    "from tensorflow.keras.optimizers import Adam"
   ]
  },
  {
   "cell_type": "markdown",
   "id": "3f4eb41a",
   "metadata": {},
   "source": [
    "# 2.Loading data/ Preprocessing"
   ]
  },
  {
   "cell_type": "code",
   "execution_count": 2,
   "id": "30720ea7",
   "metadata": {},
   "outputs": [],
   "source": [
    "data_dir = \"dermnet/train\"#directory of the  train data\n",
    "test_dir = \"dermnet/test\"#directory of the  test data"
   ]
  },
  {
   "cell_type": "code",
   "execution_count": 3,
   "id": "621f04de",
   "metadata": {},
   "outputs": [
    {
     "name": "stdout",
     "output_type": "stream",
     "text": [
      "Found 24855 files belonging to 23 classes.\n",
      "Using 19884 files for training.\n"
     ]
    }
   ],
   "source": [
    "img_height,img_width=180,180#Size of the image\n",
    "batch_size=32\n",
    "train_ds = tf.keras.preprocessing.image_dataset_from_directory(\n",
    "  data_dir,\n",
    "  validation_split=0.2,\n",
    "  subset=\"training\",\n",
    "  seed=123,\n",
    "  image_size=(img_height, img_width),# resize images after they are read from folder\n",
    "  batch_size=batch_size)#Size of the batches of data to load at a time"
   ]
  },
  {
   "cell_type": "code",
   "execution_count": 4,
   "id": "b19cc156",
   "metadata": {},
   "outputs": [
    {
     "name": "stdout",
     "output_type": "stream",
     "text": [
      "Found 24855 files belonging to 23 classes.\n",
      "Using 4971 files for validation.\n"
     ]
    }
   ],
   "source": [
    "val_ds = tf.keras.preprocessing.image_dataset_from_directory(\n",
    "  data_dir,\n",
    "  validation_split=0.2,\n",
    "  subset=\"validation\",\n",
    "  seed=123,\n",
    "  image_size=(img_height, img_width),\n",
    "  batch_size=batch_size)"
   ]
  },
  {
   "cell_type": "code",
   "execution_count": 6,
   "id": "6e81bd64",
   "metadata": {},
   "outputs": [
    {
     "name": "stdout",
     "output_type": "stream",
     "text": [
      "Found 4317 files belonging to 23 classes.\n"
     ]
    }
   ],
   "source": [
    "test_ds =tf.keras.preprocessing.image_dataset_from_directory(\n",
    "    test_dir,#directory of the  test data\n",
    "    shuffle = True,\n",
    "    seed=123,\n",
    "    image_size =(img_height, img_width),\n",
    "    batch_size = 32  \n",
    ")"
   ]
  },
  {
   "cell_type": "code",
   "execution_count": null,
   "id": "ecf66f66",
   "metadata": {},
   "outputs": [],
   "source": []
  }
 ],
 "metadata": {
  "kernelspec": {
   "display_name": "Python 3 (ipykernel)",
   "language": "python",
   "name": "python3"
  },
  "language_info": {
   "codemirror_mode": {
    "name": "ipython",
    "version": 3
   },
   "file_extension": ".py",
   "mimetype": "text/x-python",
   "name": "python",
   "nbconvert_exporter": "python",
   "pygments_lexer": "ipython3",
   "version": "3.9.7"
  }
 },
 "nbformat": 4,
 "nbformat_minor": 5
}
